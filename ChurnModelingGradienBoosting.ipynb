{
 "cells": [
  {
   "cell_type": "code",
   "execution_count": 1,
   "metadata": {},
   "outputs": [],
   "source": [
    "from sklearn.model_selection import train_test_split\n",
    "from sklearn.ensemble import GradientBoostingClassifier\n",
    "from sklearn.metrics import accuracy_score, classification_report\n",
    "from sklearn.preprocessing import StandardScaler"
   ]
  },
  {
   "cell_type": "code",
   "execution_count": 2,
   "metadata": {},
   "outputs": [],
   "source": [
    "import pandas as pd\n",
    "df = pd.read_csv('Churn_Modelling.csv')\n",
    "columns_to_remove = ['RowNumber','Surname']\n",
    "df = df.drop(columns=columns_to_remove,axis=1)\n",
    "\n",
    "columns_to_scale = ['CustomerId','CreditScore','Balance','EstimatedSalary']\n",
    "subset = df[columns_to_scale]\n",
    "\n",
    "gender_mapping = {'Male':1,'Female':0}\n",
    "df['Gender'] = df['Gender'].map(gender_mapping)\n",
    "\n",
    "county_mapping = {'France':0,'Germany':1,'Spain':2}\n",
    "df['Geography'] = df['Geography'].map(county_mapping)\n",
    "\n",
    "scaler = StandardScaler()\n",
    "df[columns_to_scale] = scaler.fit_transform(subset)"
   ]
  },
  {
   "cell_type": "code",
   "execution_count": 3,
   "metadata": {},
   "outputs": [],
   "source": [
    "y = df['Exited']\n",
    "X = df.drop(columns='Exited',axis=1)\n",
    "\n",
    "X_train, X_test, y_train, y_test = train_test_split(X,y,test_size=0.2,random_state=42)\n"
   ]
  },
  {
   "cell_type": "code",
   "execution_count": 7,
   "metadata": {},
   "outputs": [
    {
     "name": "stdout",
     "output_type": "stream",
     "text": [
      "Train Accuracy:  0.86475\n",
      "Test Accuracy:  0.8635\n"
     ]
    }
   ],
   "source": [
    "gb_classifier = GradientBoostingClassifier(n_estimators=50, learning_rate=0.1,random_state=42)\n",
    "gb_classifier.fit(X_train,y_train)\n",
    "\n",
    "y_pred = gb_classifier.predict(X_train)\n",
    "print(\"Train Accuracy: \",accuracy_score(y_train,y_pred))\n",
    "\n",
    "y_pred = gb_classifier.predict(X_test)\n",
    "print(\"Test Accuracy: \",accuracy_score(y_test,y_pred))"
   ]
  }
 ],
 "metadata": {
  "kernelspec": {
   "display_name": "Python 3",
   "language": "python",
   "name": "python3"
  },
  "language_info": {
   "codemirror_mode": {
    "name": "ipython",
    "version": 3
   },
   "file_extension": ".py",
   "mimetype": "text/x-python",
   "name": "python",
   "nbconvert_exporter": "python",
   "pygments_lexer": "ipython3",
   "version": "3.11.6"
  }
 },
 "nbformat": 4,
 "nbformat_minor": 2
}
