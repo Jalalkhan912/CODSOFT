{
 "cells": [
  {
   "cell_type": "code",
   "execution_count": 2,
   "metadata": {},
   "outputs": [],
   "source": [
    "from sklearn.model_selection import train_test_split\n",
    "from sklearn.feature_extraction.text import TfidfVectorizer\n",
    "from sklearn.linear_model import LogisticRegression\n",
    "from sklearn.metrics import accuracy_score, classification_report\n",
    "from sklearn.preprocessing import StandardScaler\n",
    "import nltk\n",
    "from nltk.corpus import stopwords\n",
    "from nltk.tokenize import word_tokenize"
   ]
  },
  {
   "cell_type": "code",
   "execution_count": 3,
   "metadata": {},
   "outputs": [
    {
     "name": "stderr",
     "output_type": "stream",
     "text": [
      "C:\\Users\\jk\\AppData\\Local\\Temp\\ipykernel_6800\\287293075.py:5: ParserWarning: Falling back to the 'python' engine because the 'c' engine does not support regex separators (separators > 1 char and different from '\\s+' are interpreted as regex); you can avoid this warning by specifying engine='python'.\n",
      "  df = pd.read_csv(file_path,sep=':::',header=None,names=column_names)\n",
      "C:\\Users\\jk\\AppData\\Local\\Temp\\ipykernel_6800\\287293075.py:11: ParserWarning: Falling back to the 'python' engine because the 'c' engine does not support regex separators (separators > 1 char and different from '\\s+' are interpreted as regex); you can avoid this warning by specifying engine='python'.\n",
      "  df2 = pd.read_csv(file_path2,sep=':::',header=None,names=column_names2)\n",
      "C:\\Users\\jk\\AppData\\Local\\Temp\\ipykernel_6800\\287293075.py:16: ParserWarning: Falling back to the 'python' engine because the 'c' engine does not support regex separators (separators > 1 char and different from '\\s+' are interpreted as regex); you can avoid this warning by specifying engine='python'.\n",
      "  df3 = pd.read_csv(file_path3,sep=':::',header=None,names=column_names3)\n"
     ]
    }
   ],
   "source": [
    "import pandas as pd\n",
    "file_path = 'train_data.txt'\n",
    "\n",
    "column_names = ['ID','Title','Genre','Dicreption']\n",
    "df = pd.read_csv(file_path,sep=':::',header=None,names=column_names)\n",
    "\n",
    "\n",
    "file_path2 = 'test_data.txt'\n",
    "\n",
    "column_names2 = ['ID','Title','Discription']\n",
    "df2 = pd.read_csv(file_path2,sep=':::',header=None,names=column_names2)\n",
    "\n",
    "file_path3 = 'test_data_solution.txt'\n",
    "\n",
    "column_names3 = ['ID','Title','Genre','Discpription']\n",
    "df3 = pd.read_csv(file_path3,sep=':::',header=None,names=column_names3)"
   ]
  },
  {
   "cell_type": "code",
   "execution_count": 4,
   "metadata": {},
   "outputs": [],
   "source": [
    "def remove_stop_words(description):\n",
    "    stop_words = set(stopwords.words('english'))\n",
    "    words = word_tokenize(description)\n",
    "    filtered_words = [word.lower() for word in words if word.isalpha() and word.lower() not in stop_words]\n",
    "    return ' '.join(filtered_words)\n",
    "df['Dicreption'] = df['Dicreption'].apply(remove_stop_words)\n",
    "df2['Discription'] = df2['Discription'].apply(remove_stop_words)"
   ]
  },
  {
   "cell_type": "code",
   "execution_count": 6,
   "metadata": {},
   "outputs": [],
   "source": [
    "X_train = df['Dicreption']\n",
    "y_train = df['Genre']\n",
    "X_test = df2['Discription']\n",
    "y_test =df3['Genre']"
   ]
  },
  {
   "cell_type": "code",
   "execution_count": 8,
   "metadata": {},
   "outputs": [
    {
     "name": "stdout",
     "output_type": "stream",
     "text": [
      "Test Accuracy:  0.6687387021802487\n",
      "Test Accuracy:  0.5845571955719557\n"
     ]
    }
   ],
   "source": [
    "vectorizer = TfidfVectorizer(max_features=5000)\n",
    "\n",
    "X_train_tfidf = vectorizer.fit_transform(X_train)\n",
    "X_test_tfidf = vectorizer.transform(X_test)\n",
    "\n",
    "logistic_model = LogisticRegression(max_iter=1000)\n",
    "logistic_model.fit(X_train_tfidf,y_train)\n",
    "\n",
    "y_pred = logistic_model.predict(X_train_tfidf)\n",
    "print(\"Train Accuracy: \",accuracy_score(y_train,y_pred))\n",
    "\n",
    "y_pred = logistic_model.predict(X_test_tfidf)\n",
    "print(\"Test Accuracy: \",accuracy_score(y_test,y_pred))"
   ]
  }
 ],
 "metadata": {
  "kernelspec": {
   "display_name": "Python 3",
   "language": "python",
   "name": "python3"
  },
  "language_info": {
   "codemirror_mode": {
    "name": "ipython",
    "version": 3
   },
   "file_extension": ".py",
   "mimetype": "text/x-python",
   "name": "python",
   "nbconvert_exporter": "python",
   "pygments_lexer": "ipython3",
   "version": "3.11.6"
  }
 },
 "nbformat": 4,
 "nbformat_minor": 2
}
